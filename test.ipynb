{
 "cells": [
  {
   "cell_type": "code",
   "execution_count": 1,
   "metadata": {},
   "outputs": [
    {
     "name": "stdout",
     "output_type": "stream",
     "text": [
      "Requirement already satisfied: roboflow in /Users/fatousall/anaconda3/lib/python3.11/site-packages (1.1.66)\n",
      "Requirement already satisfied: certifi in /Users/fatousall/anaconda3/lib/python3.11/site-packages (from roboflow) (2025.4.26)\n",
      "Requirement already satisfied: idna==3.7 in /Users/fatousall/anaconda3/lib/python3.11/site-packages (from roboflow) (3.7)\n",
      "Requirement already satisfied: cycler in /Users/fatousall/anaconda3/lib/python3.11/site-packages (from roboflow) (0.12.1)\n",
      "Requirement already satisfied: kiwisolver>=1.3.1 in /Users/fatousall/anaconda3/lib/python3.11/site-packages (from roboflow) (1.4.8)\n",
      "Requirement already satisfied: matplotlib in /Users/fatousall/anaconda3/lib/python3.11/site-packages (from roboflow) (3.10.1)\n",
      "Requirement already satisfied: numpy>=1.18.5 in /Users/fatousall/anaconda3/lib/python3.11/site-packages (from roboflow) (1.26.4)\n",
      "Requirement already satisfied: opencv-python-headless==4.10.0.84 in /Users/fatousall/anaconda3/lib/python3.11/site-packages (from roboflow) (4.10.0.84)\n",
      "Requirement already satisfied: Pillow>=7.1.2 in /Users/fatousall/anaconda3/lib/python3.11/site-packages (from roboflow) (11.2.1)\n",
      "Requirement already satisfied: pillow-heif>=0.18.0 in /Users/fatousall/anaconda3/lib/python3.11/site-packages (from roboflow) (0.22.0)\n",
      "Requirement already satisfied: python-dateutil in /Users/fatousall/anaconda3/lib/python3.11/site-packages (from roboflow) (2.9.0.post0)\n",
      "Requirement already satisfied: python-dotenv in /Users/fatousall/anaconda3/lib/python3.11/site-packages (from roboflow) (1.1.0)\n",
      "Requirement already satisfied: requests in /Users/fatousall/anaconda3/lib/python3.11/site-packages (from roboflow) (2.32.3)\n",
      "Requirement already satisfied: six in /Users/fatousall/anaconda3/lib/python3.11/site-packages (from roboflow) (1.17.0)\n",
      "Requirement already satisfied: urllib3>=1.26.6 in /Users/fatousall/anaconda3/lib/python3.11/site-packages (from roboflow) (2.4.0)\n",
      "Requirement already satisfied: tqdm>=4.41.0 in /Users/fatousall/anaconda3/lib/python3.11/site-packages (from roboflow) (4.65.0)\n",
      "Requirement already satisfied: PyYAML>=5.3.1 in /Users/fatousall/anaconda3/lib/python3.11/site-packages (from roboflow) (6.0.2)\n",
      "Requirement already satisfied: requests-toolbelt in /Users/fatousall/anaconda3/lib/python3.11/site-packages (from roboflow) (1.0.0)\n",
      "Requirement already satisfied: filetype in /Users/fatousall/anaconda3/lib/python3.11/site-packages (from roboflow) (1.2.0)\n",
      "Requirement already satisfied: contourpy>=1.0.1 in /Users/fatousall/anaconda3/lib/python3.11/site-packages (from matplotlib->roboflow) (1.3.2)\n",
      "Requirement already satisfied: fonttools>=4.22.0 in /Users/fatousall/anaconda3/lib/python3.11/site-packages (from matplotlib->roboflow) (4.57.0)\n",
      "Requirement already satisfied: packaging>=20.0 in /Users/fatousall/anaconda3/lib/python3.11/site-packages (from matplotlib->roboflow) (24.2)\n",
      "Requirement already satisfied: pyparsing>=2.3.1 in /Users/fatousall/anaconda3/lib/python3.11/site-packages (from matplotlib->roboflow) (3.2.3)\n",
      "Requirement already satisfied: charset-normalizer<4,>=2 in /Users/fatousall/anaconda3/lib/python3.11/site-packages (from requests->roboflow) (3.4.1)\n",
      "loading Roboflow workspace...\n",
      "loading Roboflow project...\n"
     ]
    },
    {
     "name": "stderr",
     "output_type": "stream",
     "text": [
      "Downloading Dataset Version Zip in geomapping_cpg_annotations-15 to coco-mmdetection:: 100%|██████████| 1233415/1233415 [00:35<00:00, 34863.41it/s]"
     ]
    },
    {
     "name": "stdout",
     "output_type": "stream",
     "text": [
      "\n"
     ]
    },
    {
     "name": "stderr",
     "output_type": "stream",
     "text": [
      "\n",
      "Extracting Dataset Version Zip to geomapping_cpg_annotations-15 in coco-mmdetection:: 100%|██████████| 23126/23126 [00:05<00:00, 3970.04it/s]\n"
     ]
    }
   ],
   "source": [
    "!pip install roboflow\n",
    "\n",
    "from roboflow import Roboflow\n",
    "rf = Roboflow(api_key=\"ftEUZoJDm7N6nRICInwy\")\n",
    "project = rf.workspace(\"lengo-geomapping\").project(\"geomapping_cpg_annotations\")\n",
    "version = project.version(15)\n",
    "dataset = version.download(\"coco-mmdetection\")"
   ]
  },
  {
   "cell_type": "code",
   "execution_count": 1,
   "metadata": {},
   "outputs": [
    {
     "name": "stdout",
     "output_type": "stream",
     "text": [
      "Classes dans votre fichier:\n",
      "  ID: 1, Name: \"CPG-corner-shop\"\n",
      "  ID: 2, Name: \"corner-shop\"\n",
      "  ID: 3, Name: \"street-booth-vendor\"\n",
      "  ID: 4, Name: \"supermarket-minimarket\"\n"
     ]
    }
   ],
   "source": [
    "import json\n",
    "with open('/Users/fatousall/Documents/geo-mapping/geomapping_cpg_annotations-15/train/_annotations.coco.json', 'r') as f:\n",
    "    data = json.load(f)\n",
    "print('Classes dans votre fichier:')\n",
    "for cat in data['categories']:\n",
    "    print(f'  ID: {cat[\"id\"]}, Name: \"{cat[\"name\"]}\"')\n",
    "\n",
    "                       \n"
   ]
  },
  {
   "cell_type": "code",
   "execution_count": 7,
   "metadata": {},
   "outputs": [
    {
     "name": "stdout",
     "output_type": "stream",
     "text": [
      "Classes dans votre fichier:\n",
      " ID: 1, Name: \"CPG-corner-shop\"\n",
      " ID: 2, Name: \"corner-shop\"\n",
      " ID: 3, Name: \"street-booth-vendor\"\n",
      " ID: 4, Name: \"supermarket-minimarket\"\n",
      "\n",
      "Fréquence de chaque classe:\n",
      "----------------------------------------\n",
      "CPG-corner-shop: 21202 annotations\n",
      "corner-shop: 25634 annotations\n",
      "street-booth-vendor: 4007 annotations\n",
      "supermarket-minimarket: 57 annotations\n",
      "\n",
      "Total annotations: 50900\n",
      "\n",
      "Pourcentages:\n",
      "----------------------------------------\n",
      "CPG-corner-shop: 41.7%\n",
      "corner-shop: 50.4%\n",
      "street-booth-vendor: 7.9%\n",
      "supermarket-minimarket: 0.1%\n"
     ]
    }
   ],
   "source": [
    "import json\n",
    "from collections import Counter\n",
    "\n",
    "with open('/Users/fatousall/Documents/geo-mapping/geomapping_cpg_annotations-15/train/_annotations.coco.json', 'r') as f:\n",
    "    data = json.load(f)\n",
    "\n",
    "# Créer un dictionnaire pour mapper les IDs aux noms\n",
    "id_to_name = {cat[\"id\"]: cat[\"name\"] for cat in data['categories']}\n",
    "\n",
    "print('Classes dans votre fichier:')\n",
    "for cat in data['categories']:\n",
    "    print(f' ID: {cat[\"id\"]}, Name: \"{cat[\"name\"]}\"')\n",
    "\n",
    "# Compter les occurrences de chaque category_id dans les annotations\n",
    "category_counts = Counter(ann['category_id'] for ann in data['annotations'])\n",
    "\n",
    "print('\\nFréquence de chaque classe:')\n",
    "print('-' * 40)\n",
    "for category_id, count in category_counts.items():\n",
    "    class_name = id_to_name.get(category_id, f\"Unknown (ID: {category_id})\")\n",
    "    print(f'{class_name}: {count} annotations')\n",
    "\n",
    "# Optionnel: afficher le total\n",
    "total_annotations = sum(category_counts.values())\n",
    "print(f'\\nTotal annotations: {total_annotations}')\n",
    "\n",
    "# Optionnel: afficher les pourcentages\n",
    "print('\\nPourcentages:')\n",
    "print('-' * 40)\n",
    "for category_id, count in category_counts.items():\n",
    "    class_name = id_to_name.get(category_id, f\"Unknown (ID: {category_id})\")\n",
    "    percentage = (count / total_annotations) * 100\n",
    "    print(f'{class_name}: {percentage:.1f}%')"
   ]
  },
  {
   "cell_type": "code",
   "execution_count": 1,
   "metadata": {},
   "outputs": [
    {
     "ename": "JSONDecodeError",
     "evalue": "Expecting value: line 1 column 1 (char 0)",
     "output_type": "error",
     "traceback": [
      "\u001b[0;31m---------------------------------------------------------------------------\u001b[0m",
      "\u001b[0;31mJSONDecodeError\u001b[0m                           Traceback (most recent call last)",
      "File \u001b[0;32m~/anaconda3/lib/python3.11/site-packages/requests/models.py:974\u001b[0m, in \u001b[0;36mResponse.json\u001b[0;34m(self, **kwargs)\u001b[0m\n\u001b[1;32m    973\u001b[0m \u001b[38;5;28;01mtry\u001b[39;00m:\n\u001b[0;32m--> 974\u001b[0m     \u001b[38;5;28;01mreturn\u001b[39;00m \u001b[43mcomplexjson\u001b[49m\u001b[38;5;241;43m.\u001b[39;49m\u001b[43mloads\u001b[49m\u001b[43m(\u001b[49m\u001b[38;5;28;43mself\u001b[39;49m\u001b[38;5;241;43m.\u001b[39;49m\u001b[43mtext\u001b[49m\u001b[43m,\u001b[49m\u001b[43m \u001b[49m\u001b[38;5;241;43m*\u001b[39;49m\u001b[38;5;241;43m*\u001b[39;49m\u001b[43mkwargs\u001b[49m\u001b[43m)\u001b[49m\n\u001b[1;32m    975\u001b[0m \u001b[38;5;28;01mexcept\u001b[39;00m JSONDecodeError \u001b[38;5;28;01mas\u001b[39;00m e:\n\u001b[1;32m    976\u001b[0m     \u001b[38;5;66;03m# Catch JSON-related errors and raise as requests.JSONDecodeError\u001b[39;00m\n\u001b[1;32m    977\u001b[0m     \u001b[38;5;66;03m# This aliases json.JSONDecodeError and simplejson.JSONDecodeError\u001b[39;00m\n",
      "File \u001b[0;32m~/anaconda3/lib/python3.11/site-packages/simplejson/__init__.py:514\u001b[0m, in \u001b[0;36mloads\u001b[0;34m(s, encoding, cls, object_hook, parse_float, parse_int, parse_constant, object_pairs_hook, use_decimal, allow_nan, **kw)\u001b[0m\n\u001b[1;32m    510\u001b[0m \u001b[38;5;28;01mif\u001b[39;00m (\u001b[38;5;28mcls\u001b[39m \u001b[38;5;129;01mis\u001b[39;00m \u001b[38;5;28;01mNone\u001b[39;00m \u001b[38;5;129;01mand\u001b[39;00m encoding \u001b[38;5;129;01mis\u001b[39;00m \u001b[38;5;28;01mNone\u001b[39;00m \u001b[38;5;129;01mand\u001b[39;00m object_hook \u001b[38;5;129;01mis\u001b[39;00m \u001b[38;5;28;01mNone\u001b[39;00m \u001b[38;5;129;01mand\u001b[39;00m\n\u001b[1;32m    511\u001b[0m         parse_int \u001b[38;5;129;01mis\u001b[39;00m \u001b[38;5;28;01mNone\u001b[39;00m \u001b[38;5;129;01mand\u001b[39;00m parse_float \u001b[38;5;129;01mis\u001b[39;00m \u001b[38;5;28;01mNone\u001b[39;00m \u001b[38;5;129;01mand\u001b[39;00m\n\u001b[1;32m    512\u001b[0m         parse_constant \u001b[38;5;129;01mis\u001b[39;00m \u001b[38;5;28;01mNone\u001b[39;00m \u001b[38;5;129;01mand\u001b[39;00m object_pairs_hook \u001b[38;5;129;01mis\u001b[39;00m \u001b[38;5;28;01mNone\u001b[39;00m\n\u001b[1;32m    513\u001b[0m         \u001b[38;5;129;01mand\u001b[39;00m \u001b[38;5;129;01mnot\u001b[39;00m use_decimal \u001b[38;5;129;01mand\u001b[39;00m \u001b[38;5;129;01mnot\u001b[39;00m allow_nan \u001b[38;5;129;01mand\u001b[39;00m \u001b[38;5;129;01mnot\u001b[39;00m kw):\n\u001b[0;32m--> 514\u001b[0m     \u001b[38;5;28;01mreturn\u001b[39;00m \u001b[43m_default_decoder\u001b[49m\u001b[38;5;241;43m.\u001b[39;49m\u001b[43mdecode\u001b[49m\u001b[43m(\u001b[49m\u001b[43ms\u001b[49m\u001b[43m)\u001b[49m\n\u001b[1;32m    515\u001b[0m \u001b[38;5;28;01mif\u001b[39;00m \u001b[38;5;28mcls\u001b[39m \u001b[38;5;129;01mis\u001b[39;00m \u001b[38;5;28;01mNone\u001b[39;00m:\n",
      "File \u001b[0;32m~/anaconda3/lib/python3.11/site-packages/simplejson/decoder.py:386\u001b[0m, in \u001b[0;36mJSONDecoder.decode\u001b[0;34m(self, s, _w, _PY3)\u001b[0m\n\u001b[1;32m    385\u001b[0m     s \u001b[38;5;241m=\u001b[39m \u001b[38;5;28mstr\u001b[39m(s, \u001b[38;5;28mself\u001b[39m\u001b[38;5;241m.\u001b[39mencoding)\n\u001b[0;32m--> 386\u001b[0m obj, end \u001b[38;5;241m=\u001b[39m \u001b[38;5;28;43mself\u001b[39;49m\u001b[38;5;241;43m.\u001b[39;49m\u001b[43mraw_decode\u001b[49m\u001b[43m(\u001b[49m\u001b[43ms\u001b[49m\u001b[43m)\u001b[49m\n\u001b[1;32m    387\u001b[0m end \u001b[38;5;241m=\u001b[39m _w(s, end)\u001b[38;5;241m.\u001b[39mend()\n",
      "File \u001b[0;32m~/anaconda3/lib/python3.11/site-packages/simplejson/decoder.py:416\u001b[0m, in \u001b[0;36mJSONDecoder.raw_decode\u001b[0;34m(self, s, idx, _w, _PY3)\u001b[0m\n\u001b[1;32m    415\u001b[0m         idx \u001b[38;5;241m+\u001b[39m\u001b[38;5;241m=\u001b[39m \u001b[38;5;241m3\u001b[39m\n\u001b[0;32m--> 416\u001b[0m \u001b[38;5;28;01mreturn\u001b[39;00m \u001b[38;5;28;43mself\u001b[39;49m\u001b[38;5;241;43m.\u001b[39;49m\u001b[43mscan_once\u001b[49m\u001b[43m(\u001b[49m\u001b[43ms\u001b[49m\u001b[43m,\u001b[49m\u001b[43m \u001b[49m\u001b[43midx\u001b[49m\u001b[38;5;241;43m=\u001b[39;49m\u001b[43m_w\u001b[49m\u001b[43m(\u001b[49m\u001b[43ms\u001b[49m\u001b[43m,\u001b[49m\u001b[43m \u001b[49m\u001b[43midx\u001b[49m\u001b[43m)\u001b[49m\u001b[38;5;241;43m.\u001b[39;49m\u001b[43mend\u001b[49m\u001b[43m(\u001b[49m\u001b[43m)\u001b[49m\u001b[43m)\u001b[49m\n",
      "\u001b[0;31mJSONDecodeError\u001b[0m: Expecting value: line 1 column 1 (char 0)",
      "\nDuring handling of the above exception, another exception occurred:\n",
      "\u001b[0;31mJSONDecodeError\u001b[0m                           Traceback (most recent call last)",
      "Cell \u001b[0;32mIn[1], line 11\u001b[0m\n\u001b[1;32m      9\u001b[0m response \u001b[38;5;241m=\u001b[39m requests\u001b[38;5;241m.\u001b[39mget(url)\n\u001b[1;32m     10\u001b[0m response\u001b[38;5;241m.\u001b[39mraise_for_status()  \u001b[38;5;66;03m# Vérifier que la requête a réussi\u001b[39;00m\n\u001b[0;32m---> 11\u001b[0m data \u001b[38;5;241m=\u001b[39m \u001b[43mresponse\u001b[49m\u001b[38;5;241;43m.\u001b[39;49m\u001b[43mjson\u001b[49m\u001b[43m(\u001b[49m\u001b[43m)\u001b[49m\n\u001b[1;32m     13\u001b[0m \u001b[38;5;66;03m# Créer un dictionnaire pour mapper les IDs aux noms\u001b[39;00m\n\u001b[1;32m     14\u001b[0m id_to_name \u001b[38;5;241m=\u001b[39m {cat[\u001b[38;5;124m\"\u001b[39m\u001b[38;5;124mid\u001b[39m\u001b[38;5;124m\"\u001b[39m]: cat[\u001b[38;5;124m\"\u001b[39m\u001b[38;5;124mname\u001b[39m\u001b[38;5;124m\"\u001b[39m] \u001b[38;5;28;01mfor\u001b[39;00m cat \u001b[38;5;129;01min\u001b[39;00m data[\u001b[38;5;124m'\u001b[39m\u001b[38;5;124mcategories\u001b[39m\u001b[38;5;124m'\u001b[39m]}\n",
      "File \u001b[0;32m~/anaconda3/lib/python3.11/site-packages/requests/models.py:978\u001b[0m, in \u001b[0;36mResponse.json\u001b[0;34m(self, **kwargs)\u001b[0m\n\u001b[1;32m    974\u001b[0m     \u001b[38;5;28;01mreturn\u001b[39;00m complexjson\u001b[38;5;241m.\u001b[39mloads(\u001b[38;5;28mself\u001b[39m\u001b[38;5;241m.\u001b[39mtext, \u001b[38;5;241m*\u001b[39m\u001b[38;5;241m*\u001b[39mkwargs)\n\u001b[1;32m    975\u001b[0m \u001b[38;5;28;01mexcept\u001b[39;00m JSONDecodeError \u001b[38;5;28;01mas\u001b[39;00m e:\n\u001b[1;32m    976\u001b[0m     \u001b[38;5;66;03m# Catch JSON-related errors and raise as requests.JSONDecodeError\u001b[39;00m\n\u001b[1;32m    977\u001b[0m     \u001b[38;5;66;03m# This aliases json.JSONDecodeError and simplejson.JSONDecodeError\u001b[39;00m\n\u001b[0;32m--> 978\u001b[0m     \u001b[38;5;28;01mraise\u001b[39;00m RequestsJSONDecodeError(e\u001b[38;5;241m.\u001b[39mmsg, e\u001b[38;5;241m.\u001b[39mdoc, e\u001b[38;5;241m.\u001b[39mpos)\n",
      "\u001b[0;31mJSONDecodeError\u001b[0m: Expecting value: line 1 column 1 (char 0)"
     ]
    }
   ],
   "source": [
    "import json\n",
    "import requests\n",
    "from collections import Counter\n",
    "\n",
    "# URL du fichier dans le bucket GCP\n",
    "url = \"https://storage.cloud.google.com/lengo-geomapping/database/africa/nigeria/abuja/abuja_custom/annotations/abuja_annotations.json\"\n",
    "\n",
    "# Télécharger et charger le fichier JSON\n",
    "response = requests.get(url)\n",
    "response.raise_for_status()  # Vérifier que la requête a réussi\n",
    "data = response.json()\n",
    "\n",
    "# Créer un dictionnaire pour mapper les IDs aux noms\n",
    "id_to_name = {cat[\"id\"]: cat[\"name\"] for cat in data['categories']}\n",
    "\n",
    "print('Classes dans votre fichier:')\n",
    "for cat in data['categories']:\n",
    "    print(f' ID: {cat[\"id\"]}, Name: \"{cat[\"name\"]}\"')\n",
    "\n",
    "# Compter les occurrences de chaque category_id dans les annotations\n",
    "category_counts = Counter(ann['category_id'] for ann in data['annotations'])\n",
    "\n",
    "print('\\nFréquence de chaque classe:')\n",
    "print('-' * 40)\n",
    "for category_id, count in category_counts.items():\n",
    "    class_name = id_to_name.get(category_id, f\"Unknown (ID: {category_id})\")\n",
    "    print(f'{class_name}: {count} annotations')\n",
    "\n",
    "# Total et pourcentages\n",
    "total_annotations = sum(category_counts.values())\n",
    "print(f'\\nTotal annotations: {total_annotations}')\n",
    "\n",
    "print('\\nPourcentages:')\n",
    "print('-' * 40)\n",
    "for category_id, count in category_counts.items():\n",
    "    class_name = id_to_name.get(category_id, f\"Unknown (ID: {category_id})\")\n",
    "    percentage = (count / total_annotations) * 100\n",
    "    print(f'{class_name}: {percentage:.1f}%')"
   ]
  },
  {
   "cell_type": "code",
   "execution_count": 2,
   "metadata": {},
   "outputs": [
    {
     "name": "stdout",
     "output_type": "stream",
     "text": [
      "Classes dans votre fichier:\n",
      " ID: 0, Name: \"CPG-corner-shop\"\n",
      " ID: 1, Name: \"corner-shop\"\n",
      " ID: 2, Name: \"street-booth-vendor\"\n",
      "\n",
      "Fréquence de chaque classe:\n",
      "----------------------------------------\n",
      "CPG-corner-shop: 8845 annotations\n",
      "corner-shop: 98370 annotations\n",
      "street-booth-vendor: 21058 annotations\n",
      "\n",
      "Total annotations: 128273\n",
      "\n",
      "Pourcentages:\n",
      "----------------------------------------\n",
      "CPG-corner-shop: 6.9%\n",
      "corner-shop: 76.7%\n",
      "street-booth-vendor: 16.4%\n"
     ]
    }
   ],
   "source": [
    "import json\n",
    "from collections import Counter\n",
    "from google.cloud import storage\n",
    "\n",
    "# Configuration\n",
    "bucket_name = \"lengo-geomapping\"\n",
    "blob_path = \"database/africa/nigeria/abuja/abuja_custom/annotations/abuja_annotations.json\"\n",
    "blob_path = \"database/africa/south_africa/johannesburg/merged_data/annotations_merged_all_wards.json\"\n",
    "\n",
    "\n",
    "\n",
    "\n",
    "# Initialiser le client (nécessite une authentification GCP)\n",
    "client = storage.Client()\n",
    "bucket = client.bucket(bucket_name)\n",
    "blob = bucket.blob(blob_path)\n",
    "\n",
    "# Télécharger et parser le JSON\n",
    "json_string = blob.download_as_text()\n",
    "data = json.loads(json_string)\n",
    "\n",
    "# Reste du code identique à l'option 1\n",
    "id_to_name = {cat[\"id\"]: cat[\"name\"] for cat in data['categories']}\n",
    "\n",
    "print('Classes dans votre fichier:')\n",
    "for cat in data['categories']:\n",
    "    print(f' ID: {cat[\"id\"]}, Name: \"{cat[\"name\"]}\"')\n",
    "\n",
    "category_counts = Counter(ann['category_id'] for ann in data['annotations'])\n",
    "\n",
    "print('\\nFréquence de chaque classe:')\n",
    "print('-' * 40)\n",
    "for category_id, count in category_counts.items():\n",
    "    class_name = id_to_name.get(category_id, f\"Unknown (ID: {category_id})\")\n",
    "    print(f'{class_name}: {count} annotations')\n",
    "\n",
    "total_annotations = sum(category_counts.values())\n",
    "print(f'\\nTotal annotations: {total_annotations}')\n",
    "\n",
    "print('\\nPourcentages:')\n",
    "print('-' * 40)\n",
    "for category_id, count in category_counts.items():\n",
    "    class_name = id_to_name.get(category_id, f\"Unknown (ID: {category_id})\")\n",
    "    percentage = (count / total_annotations) * 100\n",
    "    print(f'{class_name}: {percentage:.1f}%')"
   ]
  }
 ],
 "metadata": {
  "kernelspec": {
   "display_name": "base",
   "language": "python",
   "name": "python3"
  },
  "language_info": {
   "codemirror_mode": {
    "name": "ipython",
    "version": 3
   },
   "file_extension": ".py",
   "mimetype": "text/x-python",
   "name": "python",
   "nbconvert_exporter": "python",
   "pygments_lexer": "ipython3",
   "version": "3.11.6"
  }
 },
 "nbformat": 4,
 "nbformat_minor": 2
}
