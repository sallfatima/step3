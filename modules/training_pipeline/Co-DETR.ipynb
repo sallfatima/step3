{
 "cells": [
  {
   "cell_type": "markdown",
   "id": "e38928f2-00d1-4dcc-8e28-995c7f1e154b",
   "metadata": {
    "tags": []
   },
   "source": [
    "# Setup"
   ]
  },
  {
   "cell_type": "markdown",
   "id": "18a6c849-e52a-43b3-a925-4dce4af4bc37",
   "metadata": {
    "jp-MarkdownHeadingCollapsed": true,
    "tags": []
   },
   "source": [
    "## Code setup"
   ]
  },
  {
   "cell_type": "markdown",
   "id": "8593c81f-e7b8-471a-bc1e-40936c78ada7",
   "metadata": {
    "jp-MarkdownHeadingCollapsed": true,
    "tags": []
   },
   "source": [
    "conda create --name codetr python=3.7\n",
    "conda activate codetr\n",
    "\n",
    "pip install roboflow wandb\n",
    "\n",
    "pip install torch==1.11.0+cu113 torchvision==0.12.0+cu113 torchaudio==0.11.0 --extra-index-url https://download.pytorch.org/whl/cu113\n",
    "\n",
    "pip install mmcv-full==1.5.0 -f https://download.openmmlab.com/mmcv/dist/cu113/torch1.11.0/index.html\n",
    "\n",
    "git clone https://github.com/Sense-X/Co-DETR.git\n",
    "\n",
    "cd Co-DETR\n",
    "\n",
    "pip install -e .\n",
    "\n",
    "pip install yapf==0.40.1"
   ]
  },
  {
   "cell_type": "markdown",
   "id": "9f753bd3-a486-458d-a9a4-0bcb4e92bcfa",
   "metadata": {
    "jp-MarkdownHeadingCollapsed": true,
    "tags": []
   },
   "source": [
    "## Notebook setup"
   ]
  },
  {
   "cell_type": "code",
   "execution_count": null,
   "id": "1fccde10-f638-417d-aee3-072a735734f0",
   "metadata": {
    "tags": []
   },
   "outputs": [],
   "source": [
    "!pip install roboflow google-cloud-storage"
   ]
  },
  {
   "cell_type": "markdown",
   "id": "09cf53fe-144d-4253-8974-53526f2c2df3",
   "metadata": {},
   "source": [
    "# Get data"
   ]
  },
  {
   "cell_type": "markdown",
   "id": "62c25cbe-f252-4fe1-b64d-4a5ab12a3b6c",
   "metadata": {},
   "source": [
    "Set tokens and dataset version"
   ]
  },
  {
   "cell_type": "code",
   "execution_count": 1,
   "id": "c3a7eb96-ba8a-4771-b7df-3ade6fb654ba",
   "metadata": {
    "tags": []
   },
   "outputs": [],
   "source": [
    "ROBOFLOW_API_KEY = \"YOUR_ROBOFLOW_API_KEY\"\n",
    "ROBOFLOW_PROJECT = \"lengoai_nigeria_lagos_apapa_od\"\n",
    "ROBOFLOW_WORKSPACE = \"lengo-geomapping\"\n",
    "PROJECT_VERSION = 34"
   ]
  },
  {
   "cell_type": "markdown",
   "id": "80e79875-8981-4323-b2c6-0d7c4efbab76",
   "metadata": {},
   "source": [
    "Get data from Roboflow according to project version (which is the version of the dataset created in Roboflow)"
   ]
  },
  {
   "cell_type": "code",
   "execution_count": null,
   "id": "541b2c6b-76d8-4095-8ae7-47dea4968c40",
   "metadata": {
    "tags": []
   },
   "outputs": [],
   "source": [
    "import os\n",
    "HOME = os.getcwd()\n",
    "\n",
    "%cd Co-DETR\n",
    "!mkdir data\n",
    "%cd data"
   ]
  },
  {
   "cell_type": "code",
   "execution_count": null,
   "id": "c3d2d8d5-c62c-4953-a499-982e6f61d891",
   "metadata": {
    "tags": []
   },
   "outputs": [],
   "source": [
    "from roboflow import Roboflow\n",
    "\n",
    "rf = Roboflow(api_key=ROBOFLOW_API_KEY)\n",
    "project = rf.workspace(ROBOFLOW_WORKSPACE).project(ROBOFLOW_PROJECT)\n",
    "version = project.version(PROJECT_VERSION)\n",
    "dataset = version.download(\"coco-mmdetection\")"
   ]
  },
  {
   "cell_type": "markdown",
   "id": "90985e3d-2a54-4914-9a38-02c2e315e0ba",
   "metadata": {},
   "source": [
    "# Get pretrained model"
   ]
  },
  {
   "cell_type": "code",
   "execution_count": null,
   "id": "eeb2b38f-c606-45b6-b84c-07be80c22e31",
   "metadata": {
    "tags": []
   },
   "outputs": [],
   "source": [
    "%cd .."
   ]
  },
  {
   "cell_type": "markdown",
   "id": "b0ea94ea-b45f-49cc-9394-f2fcf970cdec",
   "metadata": {},
   "source": [
    "Obtain the Co-DETR pretrained model on Objects365 dataset"
   ]
  },
  {
   "cell_type": "code",
   "execution_count": 17,
   "id": "760a63a8-a072-454f-ba0b-1f9f5a8d303c",
   "metadata": {
    "tags": []
   },
   "outputs": [],
   "source": [
    "from google.cloud import storage\n",
    "\n",
    "# Initialize the client\n",
    "client = storage.Client()\n",
    "\n",
    "# Define bucket and file\n",
    "bucket_name = \"lengo-geomapping\"\n",
    "pretrained_filename = \"models_database/ViT_pretrained_objects365_coco.pth\"\n",
    "\n",
    "bucket = client.get_bucket(bucket_name)\n",
    "blob = bucket.blob(pretrained_filename)\n",
    "\n",
    "# Download and read the file\n",
    "blob.download_to_filename('pretrained/ViT_pretrained_objects365_coco.pth')"
   ]
  },
  {
   "cell_type": "markdown",
   "id": "e34310b6-1da0-42a7-a8a3-c76db02cb797",
   "metadata": {},
   "source": [
    "# Commands"
   ]
  },
  {
   "cell_type": "markdown",
   "id": "a207155a",
   "metadata": {},
   "source": [
    "Firstly, copy the 'model_config.py' script under 'projects/configs/co_dino_vit/' directory.\n",
    "\n",
    "Then, replace 'coco.py' script in 'Co-DETR/mmdet/datasets/coco.py' to be able to run classwise mAP."
   ]
  },
  {
   "cell_type": "code",
   "execution_count": null,
   "id": "77367fc7-80f4-4c3a-b660-5b9af921b3e3",
   "metadata": {},
   "outputs": [],
   "source": [
    "# Distributed training (single-GPU here)\n",
    "# bash tools/dist_train.sh projects/configs/co_dino_vit/model_config.py 1 ./test_run\n",
    "\n",
    "# Testing (single-GPU here)\n",
    "# python tools/test.py projects/configs/co_dino_vit/model_config.py test_run/<best_model>.pth --show-dir test_run/test --work-dir test_run/test --out test_run/test/output.pkl --eval 'bbox' --cfg-options evaluation.classwise=True\n",
    "\n",
    "# Confusion matrix\n",
    "# python tools/analysis_tools/confusion_matrix.py projects/configs/co_dino_vit/model_config.py test_run/test/output.pkl test_run/test --show"
   ]
  },
  {
   "cell_type": "markdown",
   "id": "9500bf3f-94a6-49ce-9855-1d6a1fc28efc",
   "metadata": {},
   "source": [
    "# Upload best model to GCS"
   ]
  },
  {
   "cell_type": "code",
   "execution_count": 1,
   "id": "78f53fae-ee49-41ab-a132-af71596f525d",
   "metadata": {},
   "outputs": [],
   "source": [
    "from google.cloud import storage\n",
    "\n",
    "\n",
    "def upload_to_gcs(local_file_path, bucket_name, destination_blob_name):\n",
    "    \"\"\"\n",
    "    Uploads a file to a Google Cloud Storage bucket.\n",
    "\n",
    "    Args:\n",
    "        local_file_path (str): Path to the local file to upload.\n",
    "        bucket_name (str): Name of the GCS bucket.\n",
    "        destination_blob_name (str): Desired filepath in the bucket.\n",
    "    \"\"\"\n",
    "    # Initialize the storage client\n",
    "    storage_client = storage.Client()\n",
    "\n",
    "    # Get the bucket\n",
    "    bucket = storage_client.bucket(bucket_name)\n",
    "\n",
    "    # Create a blob (object) in the bucket\n",
    "    blob = bucket.blob(destination_blob_name)\n",
    "\n",
    "    # Upload the file\n",
    "    blob.upload_from_filename(local_file_path)\n",
    "\n",
    "    print(f\"File {local_file_path} uploaded to {destination_blob_name} in bucket {bucket_name}.\")"
   ]
  },
  {
   "cell_type": "code",
   "execution_count": null,
   "id": "57123fa0-25d7-4d4e-b9db-2430a811cd17",
   "metadata": {
    "tags": []
   },
   "outputs": [],
   "source": [
    "best_model_path = \"Co-DETR/test_run/<best_model>.pth\"\n",
    "gcs_destination_path = \"models_database/africa/nigeria/best_model_codetr.pth\"\n",
    "bucket_name = \"lengo-geomapping\"\n",
    "\n",
    "upload_to_gcs(best_model_path, bucket_name, gcs_destination_path)\n"
   ]
  }
 ],
 "metadata": {
  "environment": {
   "kernel": "python3",
   "name": ".m126",
   "type": "gcloud",
   "uri": "us-docker.pkg.dev/deeplearning-platform-release/gcr.io/:m126"
  },
  "kernelspec": {
   "display_name": "Python 3 (Local)",
   "language": "python",
   "name": "python3"
  },
  "language_info": {
   "codemirror_mode": {
    "name": "ipython",
    "version": 3
   },
   "file_extension": ".py",
   "mimetype": "text/x-python",
   "name": "python",
   "nbconvert_exporter": "python",
   "pygments_lexer": "ipython3",
   "version": "3.10.15"
  }
 },
 "nbformat": 4,
 "nbformat_minor": 5
}
